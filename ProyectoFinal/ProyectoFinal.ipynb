{
 "cells": [
  {
   "cell_type": "markdown",
   "id": "08ca7064-3f9e-40f3-8868-9432a7c34ebf",
   "metadata": {},
   "source": [
    "---\n",
    "<center> <front  size=\"10\" color=\"#de3831\">\n",
    "    <b> PROYECTO FINAL </b>\n",
    "</front> </center>\n"
   ]
  },
  {
   "cell_type": "markdown",
   "id": "94955327-1937-45b9-b967-d992435b3d2d",
   "metadata": {},
   "source": [
    "---\n",
    "<center>  <front  size=\"5\" color=\"black\">   Grupo 5 / Rubén Martínez Gormaz"
   ]
  },
  {
   "cell_type": "code",
   "execution_count": null,
   "id": "7e76ea37-62f0-41ea-9cb5-c45c8ad33943",
   "metadata": {},
   "outputs": [],
   "source": [
    "import cv2, time,csv,streamlit as st, pandas as pd\n",
    "from pyzbar.py"
   ]
  },
  {
   "cell_type": "code",
   "execution_count": 3,
   "id": "3ec5218a-3afb-4acf-b6b1-bcefc53f9448",
   "metadata": {},
   "outputs": [],
   "source": [
    "import qrcode as qr"
   ]
  },
  {
   "cell_type": "code",
   "execution_count": 7,
   "id": "710da65c-de76-4266-92d6-c134731d4786",
   "metadata": {},
   "outputs": [],
   "source": [
    "git_ruben = qr.make('https://github.com/RubenMartinezGormaz')"
   ]
  },
  {
   "cell_type": "code",
   "execution_count": 8,
   "id": "5eb9d3a2-ca5b-42b1-a982-e903cafc801e",
   "metadata": {},
   "outputs": [
    {
     "data": {
      "text/plain": [
       "qrcode.image.pil.PilImage"
      ]
     },
     "execution_count": 8,
     "metadata": {},
     "output_type": "execute_result"
    }
   ],
   "source": [
    "type(git_ruben)"
   ]
  },
  {
   "cell_type": "code",
   "execution_count": 9,
   "id": "bef48393-881a-449b-81c0-c8719ba8f5a8",
   "metadata": {},
   "outputs": [],
   "source": [
    "git_ruben.save('github_22037408.png')"
   ]
  },
  {
   "cell_type": "code",
   "execution_count": null,
   "id": "8c712606-f35d-43d5-9c1d-74c69014ba03",
   "metadata": {},
   "outputs": [],
   "source": [
    "pip install opencv-python"
   ]
  },
  {
   "cell_type": "code",
   "execution_count": 1,
   "id": "6d6e861c-8a8e-4c7c-8b54-1a179469e720",
   "metadata": {},
   "outputs": [],
   "source": [
    "import cv2"
   ]
  },
  {
   "cell_type": "code",
   "execution_count": 5,
   "id": "4eb9e8ab-69d5-4cc8-b663-5e475bd31b66",
   "metadata": {},
   "outputs": [],
   "source": [
    "qr_img = cv2.imread('github_22037408.png')"
   ]
  },
  {
   "cell_type": "code",
   "execution_count": 6,
   "id": "2d217d04-5f98-4fae-8dcd-c486878929ad",
   "metadata": {},
   "outputs": [
    {
     "data": {
      "text/plain": [
       "numpy.ndarray"
      ]
     },
     "execution_count": 6,
     "metadata": {},
     "output_type": "execute_result"
    }
   ],
   "source": [
    "type(qr_img)"
   ]
  },
  {
   "cell_type": "code",
   "execution_count": 10,
   "id": "e1a6ff5d-f091-49ef-b84c-42c1e8a85a79",
   "metadata": {},
   "outputs": [],
   "source": [
    "detector = cv2.QRCodeDetector()"
   ]
  },
  {
   "cell_type": "code",
   "execution_count": 12,
   "id": "53e95715-769b-4bc7-a70c-5403afa7107e",
   "metadata": {},
   "outputs": [],
   "source": [
    "text, matrix, val = detector.detectAndDecode(qr_img)"
   ]
  },
  {
   "cell_type": "code",
   "execution_count": 13,
   "id": "55d71f35-2183-4152-a58a-1661b5db63ac",
   "metadata": {},
   "outputs": [
    {
     "data": {
      "text/plain": [
       "'https://github.com/RubenMartinezGormaz'"
      ]
     },
     "execution_count": 13,
     "metadata": {},
     "output_type": "execute_result"
    }
   ],
   "source": [
    "text"
   ]
  },
  {
   "cell_type": "code",
   "execution_count": 14,
   "id": "3abc6abf-0139-42f6-8b6f-68d1eff7fde5",
   "metadata": {},
   "outputs": [
    {
     "data": {
      "text/plain": [
       "array([[[ 40.,  40.],\n",
       "        [329.,  40.],\n",
       "        [329., 329.],\n",
       "        [ 40., 329.]]], dtype=float32)"
      ]
     },
     "execution_count": 14,
     "metadata": {},
     "output_type": "execute_result"
    }
   ],
   "source": [
    "matrix"
   ]
  },
  {
   "cell_type": "code",
   "execution_count": 15,
   "id": "4d1be11e-d170-4c57-8166-d4b8463212dd",
   "metadata": {},
   "outputs": [
    {
     "data": {
      "text/plain": [
       "array([[  0,   0,   0,   0,   0,   0,   0, 255,   0, 255,   0, 255, 255,\n",
       "          0,   0,   0,   0, 255,   0, 255, 255, 255,   0,   0,   0,   0,\n",
       "          0,   0,   0],\n",
       "       [  0, 255, 255, 255, 255, 255,   0, 255, 255, 255, 255, 255,   0,\n",
       "          0,   0, 255,   0, 255, 255,   0,   0, 255,   0, 255, 255, 255,\n",
       "        255, 255,   0],\n",
       "       [  0, 255,   0,   0,   0, 255,   0, 255, 255,   0,   0,   0, 255,\n",
       "        255,   0,   0, 255,   0,   0,   0, 255, 255,   0, 255,   0,   0,\n",
       "          0, 255,   0],\n",
       "       [  0, 255,   0,   0,   0, 255,   0, 255,   0, 255, 255,   0,   0,\n",
       "          0,   0, 255,   0, 255,   0, 255, 255, 255,   0, 255,   0,   0,\n",
       "          0, 255,   0],\n",
       "       [  0, 255,   0,   0,   0, 255,   0, 255,   0, 255,   0, 255,   0,\n",
       "        255, 255,   0,   0,   0,   0, 255, 255, 255,   0, 255,   0,   0,\n",
       "          0, 255,   0],\n",
       "       [  0, 255, 255, 255, 255, 255,   0, 255,   0, 255, 255,   0, 255,\n",
       "        255,   0, 255, 255,   0, 255,   0, 255, 255,   0, 255, 255, 255,\n",
       "        255, 255,   0],\n",
       "       [  0,   0,   0,   0,   0,   0,   0, 255,   0, 255,   0, 255,   0,\n",
       "        255,   0, 255,   0, 255,   0, 255,   0, 255,   0,   0,   0,   0,\n",
       "          0,   0,   0],\n",
       "       [255, 255, 255, 255, 255, 255, 255, 255,   0, 255,   0,   0,   0,\n",
       "        255, 255, 255,   0,   0, 255, 255,   0, 255, 255, 255, 255, 255,\n",
       "        255, 255, 255],\n",
       "       [  0, 255, 255, 255,   0, 255,   0,   0,   0,   0, 255, 255,   0,\n",
       "          0,   0, 255,   0, 255, 255,   0, 255,   0,   0,   0,   0,   0,\n",
       "        255, 255,   0],\n",
       "       [255, 255,   0, 255,   0, 255, 255, 255, 255, 255, 255, 255, 255,\n",
       "        255,   0,   0,   0,   0,   0, 255, 255,   0,   0,   0,   0,   0,\n",
       "          0,   0,   0],\n",
       "       [  0,   0, 255,   0,   0,   0,   0, 255, 255,   0,   0,   0,   0,\n",
       "          0,   0,   0, 255,   0,   0, 255, 255, 255,   0,   0, 255, 255,\n",
       "        255, 255,   0],\n",
       "       [  0,   0,   0, 255, 255, 255, 255, 255, 255,   0,   0,   0,   0,\n",
       "          0, 255, 255, 255,   0,   0,   0, 255, 255,   0,   0,   0,   0,\n",
       "        255,   0,   0],\n",
       "       [  0, 255,   0,   0, 255,   0,   0,   0, 255, 255,   0, 255,   0,\n",
       "          0, 255,   0, 255,   0, 255,   0, 255,   0, 255, 255, 255, 255,\n",
       "        255,   0, 255],\n",
       "       [255, 255,   0,   0,   0, 255, 255,   0,   0,   0,   0, 255,   0,\n",
       "          0,   0,   0,   0, 255,   0,   0, 255, 255,   0,   0,   0,   0,\n",
       "          0,   0,   0],\n",
       "       [255,   0, 255,   0, 255, 255,   0, 255,   0, 255,   0, 255, 255,\n",
       "        255, 255,   0, 255,   0, 255, 255,   0,   0,   0,   0, 255,   0,\n",
       "          0, 255,   0],\n",
       "       [255,   0, 255,   0, 255,   0, 255, 255,   0,   0, 255, 255,   0,\n",
       "        255,   0, 255, 255,   0,   0,   0,   0,   0, 255, 255, 255, 255,\n",
       "        255,   0,   0],\n",
       "       [255, 255,   0,   0, 255, 255,   0, 255,   0, 255, 255,   0,   0,\n",
       "          0,   0, 255, 255,   0, 255, 255,   0, 255, 255,   0, 255, 255,\n",
       "        255,   0, 255],\n",
       "       [  0,   0,   0, 255,   0, 255, 255,   0, 255, 255,   0, 255, 255,\n",
       "        255, 255, 255,   0, 255, 255, 255,   0, 255,   0,   0,   0,   0,\n",
       "        255,   0,   0],\n",
       "       [255, 255,   0,   0, 255, 255,   0, 255,   0, 255,   0,   0, 255,\n",
       "          0,   0,   0,   0, 255, 255, 255,   0, 255, 255, 255, 255, 255,\n",
       "          0, 255,   0],\n",
       "       [255, 255, 255,   0,   0, 255, 255, 255,   0, 255, 255, 255,   0,\n",
       "          0, 255, 255,   0,   0, 255, 255,   0,   0, 255,   0,   0, 255,\n",
       "        255,   0,   0],\n",
       "       [  0,   0,   0, 255,   0,   0,   0, 255,   0,   0, 255, 255, 255,\n",
       "          0, 255,   0,   0,   0, 255, 255,   0,   0,   0,   0,   0,   0,\n",
       "        255, 255,   0],\n",
       "       [255, 255, 255, 255, 255, 255, 255, 255,   0,   0,   0,   0,   0,\n",
       "          0,   0,   0,   0, 255, 255,   0,   0, 255, 255, 255,   0, 255,\n",
       "        255, 255,   0],\n",
       "       [  0,   0,   0,   0,   0,   0,   0, 255,   0, 255,   0, 255,   0,\n",
       "        255, 255,   0, 255,   0,   0,   0,   0, 255,   0, 255,   0,   0,\n",
       "          0, 255,   0],\n",
       "       [  0, 255, 255, 255, 255, 255,   0, 255, 255, 255, 255,   0, 255,\n",
       "        255,   0,   0, 255,   0, 255,   0,   0, 255, 255, 255,   0, 255,\n",
       "        255,   0, 255],\n",
       "       [  0, 255,   0,   0,   0, 255,   0, 255,   0, 255, 255, 255,   0,\n",
       "          0,   0, 255, 255,   0, 255,   0,   0,   0,   0,   0,   0,   0,\n",
       "        255,   0, 255],\n",
       "       [  0, 255,   0,   0,   0, 255,   0, 255, 255,   0,   0, 255, 255,\n",
       "        255, 255,   0,   0,   0,   0, 255, 255,   0, 255, 255, 255, 255,\n",
       "        255, 255,   0],\n",
       "       [  0, 255,   0,   0,   0, 255,   0, 255, 255,   0, 255,   0,   0,\n",
       "        255,   0,   0,   0,   0, 255,   0,   0,   0, 255, 255, 255,   0,\n",
       "          0,   0,   0],\n",
       "       [  0, 255, 255, 255, 255, 255,   0, 255, 255, 255, 255,   0, 255,\n",
       "          0, 255, 255, 255,   0,   0, 255,   0,   0,   0, 255,   0,   0,\n",
       "        255,   0,   0],\n",
       "       [  0,   0,   0,   0,   0,   0,   0, 255,   0,   0,   0, 255, 255,\n",
       "          0, 255,   0, 255,   0, 255, 255,   0,   0,   0,   0,   0,   0,\n",
       "        255,   0, 255]], dtype=uint8)"
      ]
     },
     "execution_count": 15,
     "metadata": {},
     "output_type": "execute_result"
    }
   ],
   "source": [
    "val"
   ]
  },
  {
   "cell_type": "code",
   "execution_count": 17,
   "id": "c558d5a9-a3e9-473b-9620-25c503fb0e9d",
   "metadata": {},
   "outputs": [],
   "source": [
    "qr_img1 = cv2.imread('PASAPORTE COVID.png')"
   ]
  },
  {
   "cell_type": "code",
   "execution_count": 18,
   "id": "ff1aad36-47ce-44f5-a1f2-c7066524c2b0",
   "metadata": {},
   "outputs": [],
   "source": [
    "text, matrix, val = detector.detectAndDecode(qr_img1)"
   ]
  },
  {
   "cell_type": "code",
   "execution_count": 23,
   "id": "666ad898-f411-45d0-8e82-718a508a3c0c",
   "metadata": {},
   "outputs": [
    {
     "data": {
      "text/plain": [
       "''"
      ]
     },
     "execution_count": 23,
     "metadata": {},
     "output_type": "execute_result"
    }
   ],
   "source": [
    "text"
   ]
  },
  {
   "cell_type": "code",
   "execution_count": 26,
   "id": "85247841-c81d-4dc7-9521-19a1edb350f5",
   "metadata": {},
   "outputs": [
    {
     "data": {
      "text/plain": [
       "numpy.ndarray"
      ]
     },
     "execution_count": 26,
     "metadata": {},
     "output_type": "execute_result"
    }
   ],
   "source": [
    "type(qr_img1)"
   ]
  },
  {
   "cell_type": "code",
   "execution_count": null,
   "id": "bd068da6-4ec4-4cd8-9ef8-ede96c9b603b",
   "metadata": {},
   "outputs": [],
   "source": []
  }
 ],
 "metadata": {
  "kernelspec": {
   "display_name": "Python 3",
   "language": "python",
   "name": "python3"
  },
  "language_info": {
   "codemirror_mode": {
    "name": "ipython",
    "version": 3
   },
   "file_extension": ".py",
   "mimetype": "text/x-python",
   "name": "python",
   "nbconvert_exporter": "python",
   "pygments_lexer": "ipython3",
   "version": "3.8.8"
  }
 },
 "nbformat": 4,
 "nbformat_minor": 5
}

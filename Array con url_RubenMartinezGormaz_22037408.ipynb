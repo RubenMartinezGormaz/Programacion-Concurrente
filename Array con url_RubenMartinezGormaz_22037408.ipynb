{
 "cells": [
  {
   "cell_type": "markdown",
   "id": "47a6176e-5905-4661-9d13-9d2856922376",
   "metadata": {},
   "source": [
    "<h1 style = \"text-align:center; front-size: 36px\">Programación Concurrente y Distribuida </h1>\n",
    "<a href=\"https://github.com/RubenMartinezGormaz\">\n",
    "    <img src=\"https://avatars.githubusercontent.com/u/90790008?v=4\" title = \"Rubén Martínez 22037408\" alt=\"Rubén Martínez Gormaz 22037408\" width=\"100\" height=\"100\" style=\"float:left;vertical-align:centre\">\n",
    "    <img src=\"https://media-exp1.licdn.com/dms/image/C4D0BAQEu_Aa76fcmPw/company-logo_200_200/0/1630998679429?e=2159024400&v=beta&t=2feC9GG7RWCWizTqsK5HzDWB1TL2DOQuAVwnMf6FFvk\" title = \"M21\" alt=\"UE\" width=\"105\" height=\"105\" style=\"float:right;vertical-align:centre\">"
   ]
  },
  {
   "cell_type": "code",
   "execution_count": null,
   "id": "7604fb9d-c648-443d-9c26-29a08e57da5e",
   "metadata": {},
   "outputs": [],
   "source": [
    "import requests"
   ]
  },
  {
   "cell_type": "code",
   "execution_count": 5,
   "id": "967a22b7-f049-4005-9bda-6e3d1809b708",
   "metadata": {},
   "outputs": [],
   "source": [
    "a = 'https://storage.googleapis.com/chistian_vladimir_sucuzhanay_bucket/pictures_videos/pic00' + str(i) + '.jpeg'"
   ]
  },
  {
   "cell_type": "code",
   "execution_count": 6,
   "id": "31d42654-1e67-473a-ab95-6d7e3cfcc75b",
   "metadata": {},
   "outputs": [
    {
     "data": {
      "text/plain": [
       "'https://storage.googleapis.com/chistian_vladimir_sucuzhanay_bucket/pictures_videos/pic001.jpeg'"
      ]
     },
     "execution_count": 6,
     "metadata": {},
     "output_type": "execute_result"
    }
   ],
   "source": [
    "a"
   ]
  },
  {
   "cell_type": "code",
   "execution_count": 35,
   "id": "0c7b9867-4bb5-482f-bd92-0fe866d0a599",
   "metadata": {},
   "outputs": [],
   "source": [
    "arr = [a]"
   ]
  },
  {
   "cell_type": "code",
   "execution_count": 41,
   "id": "c07d5dd1-111f-48da-8b4d-5a066e9cfd31",
   "metadata": {},
   "outputs": [
    {
     "name": "stdout",
     "output_type": "stream",
     "text": [
      "https://storage.googleapis.com/chistian_vladimir_sucuzhanay_bucket/pictures_videos/pic000.jpeg\n",
      "https://storage.googleapis.com/chistian_vladimir_sucuzhanay_bucket/pictures_videos/pic001.jpeg\n",
      "https://storage.googleapis.com/chistian_vladimir_sucuzhanay_bucket/pictures_videos/pic002.jpeg\n",
      "https://storage.googleapis.com/chistian_vladimir_sucuzhanay_bucket/pictures_videos/pic003.jpeg\n",
      "https://storage.googleapis.com/chistian_vladimir_sucuzhanay_bucket/pictures_videos/pic004.jpeg\n",
      "https://storage.googleapis.com/chistian_vladimir_sucuzhanay_bucket/pictures_videos/pic005.jpeg\n",
      "https://storage.googleapis.com/chistian_vladimir_sucuzhanay_bucket/pictures_videos/pic006.jpeg\n",
      "https://storage.googleapis.com/chistian_vladimir_sucuzhanay_bucket/pictures_videos/pic007.jpeg\n",
      "https://storage.googleapis.com/chistian_vladimir_sucuzhanay_bucket/pictures_videos/pic008.jpeg\n",
      "https://storage.googleapis.com/chistian_vladimir_sucuzhanay_bucket/pictures_videos/pic009.jpeg\n"
     ]
    }
   ],
   "source": [
    "for i in range(0, 10):\n",
    "    a = 'https://storage.googleapis.com/chistian_vladimir_sucuzhanay_bucket/pictures_videos/pic00' + str(i) + '.jpeg'\n",
    "    print(a)\n",
    "    array_temp.append(a)"
   ]
  },
  {
   "cell_type": "code",
   "execution_count": null,
   "id": "2e00b443-a0a5-42d7-85ef-50c9afdfd990",
   "metadata": {},
   "outputs": [],
   "source": []
  }
 ],
 "metadata": {
  "kernelspec": {
   "display_name": "Python 3",
   "language": "python",
   "name": "python3"
  },
  "language_info": {
   "codemirror_mode": {
    "name": "ipython",
    "version": 3
   },
   "file_extension": ".py",
   "mimetype": "text/x-python",
   "name": "python",
   "nbconvert_exporter": "python",
   "pygments_lexer": "ipython3",
   "version": "3.8.8"
  }
 },
 "nbformat": 4,
 "nbformat_minor": 5
}

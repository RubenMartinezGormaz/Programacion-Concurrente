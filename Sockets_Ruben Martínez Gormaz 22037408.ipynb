{
 "cells": [
  {
   "cell_type": "markdown",
   "id": "35f609a6-d5fa-4f44-bdb5-539349a50aca",
   "metadata": {},
   "source": [
    "<h1 style = \"text-align:center; front-size: 36px\">Programación Concurrente y Distribuida </h1>\n",
    "<a href=\"https://github.com/RubenMartinezGormaz\">\n",
    "    <img src=\"https://avatars.githubusercontent.com/u/90790008?v=4\" title = \"Rubén Martínez 22037408\" alt=\"Rubén Martínez Gormaz 22037408\" width=\"100\" height=\"100\" style=\"float:left;vertical-align:centre\">\n",
    "    <img src=\"https://media-exp1.licdn.com/dms/image/C4D0BAQEu_Aa76fcmPw/company-logo_200_200/0/1630998679429?e=2159024400&v=beta&t=2feC9GG7RWCWizTqsK5HzDWB1TL2DOQuAVwnMf6FFvk\" title = \"M21\" alt=\"UE\" width=\"105\" height=\"105\" style=\"float:right;vertical-align:centre\">"
   ]
  },
  {
   "cell_type": "code",
   "execution_count": 1,
   "id": "14c368b8-d465-4d87-a3cd-cfed65367709",
   "metadata": {},
   "outputs": [],
   "source": [
    "from IPython import display"
   ]
  },
  {
   "cell_type": "code",
   "execution_count": 17,
   "id": "58f9471e-b8a6-44bc-98fe-7b35a9c0db7c",
   "metadata": {},
   "outputs": [],
   "source": [
    "import socket as sc"
   ]
  },
  {
   "cell_type": "code",
   "execution_count": 22,
   "id": "6cc0c947-8d1a-4bd3-88e0-f8e3e71394db",
   "metadata": {},
   "outputs": [],
   "source": [
    "socket_=sc.socket()"
   ]
  },
  {
   "cell_type": "code",
   "execution_count": null,
   "id": "7f2f03c2-d2cb-4cec-b185-43a8d52fe843",
   "metadata": {},
   "outputs": [],
   "source": [
    "james = socket_.getsockname()"
   ]
  },
  {
   "cell_type": "code",
   "execution_count": null,
   "id": "031b0efc-aa82-4d0e-bd19-0c704fa6e2b9",
   "metadata": {},
   "outputs": [],
   "source": [
    "print(james)"
   ]
  },
  {
   "cell_type": "code",
   "execution_count": 26,
   "id": "b5a25477-cb1a-494b-8126-fb23982f48dc",
   "metadata": {},
   "outputs": [
    {
     "data": {
      "text/plain": [
       "2"
      ]
     },
     "execution_count": 26,
     "metadata": {},
     "output_type": "execute_result"
    }
   ],
   "source": [
    "socket_.family.conjugate()"
   ]
  }
 ],
 "metadata": {
  "kernelspec": {
   "display_name": "Python 3",
   "language": "python",
   "name": "python3"
  },
  "language_info": {
   "codemirror_mode": {
    "name": "ipython",
    "version": 3
   },
   "file_extension": ".py",
   "mimetype": "text/x-python",
   "name": "python",
   "nbconvert_exporter": "python",
   "pygments_lexer": "ipython3",
   "version": "3.8.8"
  }
 },
 "nbformat": 4,
 "nbformat_minor": 5
}

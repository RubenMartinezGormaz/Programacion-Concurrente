{
 "cells": [
  {
   "cell_type": "code",
   "execution_count": null,
   "id": "7f0d0abd-3661-4b92-a825-2b8f1908379a",
   "metadata": {},
   "outputs": [],
   "source": [
    "import threading\n",
    "import sys\n",
    "import socket\n",
    "import pickle\n",
    "import os\n",
    "\n",
    "class Cliente():\n",
    "\n",
    "\tdef __init__(self, host=input(\"Intoduzca la IP del servidor   \"), port=int(input(\"Intoduzca el PUERTO del servidor   \")), nickname =(input(\"Intoduzca su nombre  \"))):\n",
    "\t\tself.s = socket.socket()\n",
    "\t\tself.s.connect((host, int(port)))\n",
    "\t\tthreading.Thread(target=self.recibir, daemon=True).start()\n",
    "\t\tprint('Hilo con PID = ',os.getpid(), ' y total Hilos activos =', threading.active_count())\n",
    "\n",
    "\t\twhile True:\n",
    "\t\t\tmsg = input('\\nEscriba texto ?   ** Enviar = ENTER   ** Salir Chat = 1 \\n')\n",
    "\t\t\tif msg != '1' : self.enviar(nickname + \": \" + msg )\n",
    "\t\t\telse:\n",
    "\t\t\t\tprint(\" SE CIERRA EL SOCKET \", s.getpid())\n",
    "\t\t\t\tself.s.close()\n",
    "\t\t\t\tsys.exit()\n",
    "\n",
    "\tdef recibir(self):\n",
    "\t\twhile True:\n",
    "\t\t\ttry:\n",
    "\t\t\t\tdata = self.s.recv(32)\n",
    "\t\t\t\tif data: print(pickle.loads(data))\n",
    "\t\t\texcept: pass\n",
    "\n",
    "\tdef enviar(self, msg):\n",
    "\t\tself.s.send(pickle.dumps(msg))\n",
    "\n",
    "arrancar = Cliente()"
   ]
  },
  {
   "cell_type": "code",
   "execution_count": null,
   "id": "4dc4e5a9-764d-4d26-a525-bbcfa8b24a0a",
   "metadata": {},
   "outputs": [],
   "source": []
  }
 ],
 "metadata": {
  "kernelspec": {
   "display_name": "Python 3",
   "language": "python",
   "name": "python3"
  },
  "language_info": {
   "codemirror_mode": {
    "name": "ipython",
    "version": 3
   },
   "file_extension": ".py",
   "mimetype": "text/x-python",
   "name": "python",
   "nbconvert_exporter": "python",
   "pygments_lexer": "ipython3",
   "version": "3.8.8"
  }
 },
 "nbformat": 4,
 "nbformat_minor": 5
}

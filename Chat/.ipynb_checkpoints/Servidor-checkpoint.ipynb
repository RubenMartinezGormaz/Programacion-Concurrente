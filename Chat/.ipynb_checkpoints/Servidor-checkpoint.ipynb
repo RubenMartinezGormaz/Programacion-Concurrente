{
 "cells": [
  {
   "cell_type": "code",
   "execution_count": null,
   "id": "ba6fe1a4-eea6-44c7-913c-6d82d3da99d0",
   "metadata": {},
   "outputs": [
    {
     "name": "stdin",
     "output_type": "stream",
     "text": [
      "Que puerto quiere usar ?  59989\n"
     ]
    },
    {
     "name": "stdout",
     "output_type": "stream",
     "text": [
      "\n",
      "Su IP actual es :  10.34.80.98\n",
      "Procesamiento de mensajes iniciado\n"
     ]
    }
   ],
   "source": [
    "import socket\n",
    "import threading\n",
    "import sys\n",
    "import pickle\n",
    "import os\n",
    "\n",
    "class Servidor():\n",
    "\tdef __init__(self, host=socket.gethostname(), port=int(input(\"Que puerto quiere usar ? \"))):\n",
    "\t\tself.clientes = []\n",
    "\t\tprint('\\nSu IP actual es : ',socket.gethostbyname(host))\n",
    "\t\tself.sock = socket.socket()\n",
    "\t\tself.sock.bind((str(host), int(port)))\n",
    "\t\tself.sock.listen(20)\n",
    "\t\tself.sock.setblocking(False)\n",
    "\n",
    "\t\taceptar = threading.Thread(target=self.aceptarC)\n",
    "\t\tprocesar = threading.Thread(target=self.procesarC)\n",
    "\t\t\n",
    "\t\taceptar.daemon = True\n",
    "\t\taceptar.start()\n",
    "\n",
    "\t\tprocesar.daemon = True\n",
    "\t\tprocesar.start()\n",
    "\n",
    "\t\twhile True:\n",
    "\t\t\tmsg = input('SALIR = Q\\n')\n",
    "\t\t\tif msg == 'Q':\n",
    "\t\t\t\tprint(\"**** TALOGOOO *****\")\n",
    "\t\t\t\tself.sock.close()\n",
    "\t\t\t\tsys.exit()\n",
    "\t\t\telse:\n",
    "\t\t\t\tpass\n",
    "\n",
    "\tdef broadcast(self, msg, cliente):\n",
    "\t\tfor c in self.clientes:\n",
    "\t\t\ttry:\n",
    "\t\t\t\tif c != cliente:\n",
    "\t\t\t\t\tc.send(msg)\n",
    "\t\t\texcept:\n",
    "\t\t\t\tself.clientes.remove(c)\n",
    "\n",
    "\tdef aceptarC(self):\n",
    "\t\twhile True:\n",
    "\t\t\ttry:\n",
    "\t\t\t\tconn, addr = self.sock.accept()\n",
    "\t\t\t\tprint(f\"\\nConexion aceptada via {conn}\\n\")\n",
    "\t\t\t\tconn.setblocking(False)\n",
    "\t\t\t\tself.clientes.append(conn)\n",
    "\t\t\texcept:\n",
    "\t\t\t\tpass\n",
    "\n",
    "\tdef procesarC(self):\n",
    "\t\tprint(\"Procesamiento de mensajes iniciado\")\n",
    "\t\twhile True:\n",
    "\t\t\tif len(self.clientes) > 0:\n",
    "\t\t\t\tfor c in self.clientes:\n",
    "\t\t\t\t\ttry:\n",
    "\t\t\t\t\t\tdata = c.recv(32)\n",
    "\t\t\t\t\t\tif data:\n",
    "\t\t\t\t\t\t\tself.broadcast(data,c)\n",
    "\t\t\t\t\texcept:\n",
    "\t\t\t\t\t\tpass\n",
    "\tdef fichero(self, msg):\n",
    "\t\tf = open(\"u22037408AI1.txt\", \"a\")\n",
    "\t\tf.write(msg)\n",
    "\t\tf.close()\n",
    "\n",
    "\n",
    "\tdef broadcast(self, msg, cliente):\n",
    "\t\tfor c in self.cliente:\n",
    "\t\t\tprint(\"Clientes conectados: \", len(self.clientes))\n",
    "\t\t\ttry:\n",
    "\t\t\t\tif c != cliente: \n",
    "\t\t\t\t\tprint(pickle.loads(msg))\n",
    "\t\t\t\t\tc.send(msg)\n",
    "\t\t\texcept: self.clientes.remove(c)\n",
    "\n",
    "serverSide = Servidor()\n",
    "\n",
    "s = Servidor()"
   ]
  },
  {
   "cell_type": "code",
   "execution_count": null,
   "id": "e92e72a0-c689-4aec-9c6c-229185cb0428",
   "metadata": {},
   "outputs": [],
   "source": []
  }
 ],
 "metadata": {
  "kernelspec": {
   "display_name": "Python 3",
   "language": "python",
   "name": "python3"
  },
  "language_info": {
   "codemirror_mode": {
    "name": "ipython",
    "version": 3
   },
   "file_extension": ".py",
   "mimetype": "text/x-python",
   "name": "python",
   "nbconvert_exporter": "python",
   "pygments_lexer": "ipython3",
   "version": "3.8.8"
  }
 },
 "nbformat": 4,
 "nbformat_minor": 5
}
